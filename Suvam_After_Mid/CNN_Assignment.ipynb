{
 "cells": [
  {
   "cell_type": "markdown",
   "metadata": {},
   "source": [
    "# CNN ASSIGNMENT"
   ]
  },
  {
   "cell_type": "markdown",
   "metadata": {},
   "source": [
    "You are required to implement a Convolutional Neural Network (CNN) using\n",
    "Python with Keras library for classifying images from the CIFAR-10 dataset.\n",
    "Follow the steps below:\n",
    "1. Import the CIFAR-10 dataset and print training data-related information.\n",
    "2. Import the necessary libraries for building and training the CNN model.\n",
    "3. Specify the initial convolutional block of the CNN.\n",
    "4. Add dropout layer for regularization.\n",
    "5. Add another convolutional block for CNN.\n",
    "6. Define dense layers that consume the feature array and produce a classification.\n",
    "7. Compile and train the CNN model.\n",
    "8. Evaluate the performance of the trained model.\n",
    "9. Check for overfitting using appropriate visualization.\n",
    "10. Make predictions using the trained model.\n",
    "11. Print the confusion matrix to evaluate the model’s performance."
   ]
  },
  {
   "cell_type": "code",
   "execution_count": 1,
   "metadata": {},
   "outputs": [
    {
     "name": "stdout",
     "output_type": "stream",
     "text": [
      "Downloading data from https://www.cs.toronto.edu/~kriz/cifar-10-python.tar.gz\n",
      "\u001b[1m170498071/170498071\u001b[0m \u001b[32m━━━━━━━━━━━━━━━━━━━━\u001b[0m\u001b[37m\u001b[0m \u001b[1m96s\u001b[0m 1us/step\n"
     ]
    },
    {
     "name": "stderr",
     "output_type": "stream",
     "text": [
      "c:\\Users\\suvam\\AppData\\Local\\Programs\\Python\\Python312\\Lib\\site-packages\\keras\\src\\layers\\convolutional\\base_conv.py:99: UserWarning: Do not pass an `input_shape`/`input_dim` argument to a layer. When using Sequential models, prefer using an `Input(shape)` object as the first layer in the model instead.\n",
      "  super().__init__(\n"
     ]
    },
    {
     "name": "stdout",
     "output_type": "stream",
     "text": [
      "Epoch 1/10\n",
      "\u001b[1m1563/1563\u001b[0m \u001b[32m━━━━━━━━━━━━━━━━━━━━\u001b[0m\u001b[37m\u001b[0m \u001b[1m33s\u001b[0m 20ms/step - accuracy: 0.2794 - loss: 1.9069 - val_accuracy: 0.5253 - val_loss: 1.3186\n",
      "Epoch 2/10\n",
      "\u001b[1m1563/1563\u001b[0m \u001b[32m━━━━━━━━━━━━━━━━━━━━\u001b[0m\u001b[37m\u001b[0m \u001b[1m41s\u001b[0m 20ms/step - accuracy: 0.4927 - loss: 1.4061 - val_accuracy: 0.5857 - val_loss: 1.1727\n",
      "Epoch 3/10\n",
      "\u001b[1m1563/1563\u001b[0m \u001b[32m━━━━━━━━━━━━━━━━━━━━\u001b[0m\u001b[37m\u001b[0m \u001b[1m42s\u001b[0m 20ms/step - accuracy: 0.5621 - loss: 1.2331 - val_accuracy: 0.6076 - val_loss: 1.1249\n",
      "Epoch 4/10\n",
      "\u001b[1m1563/1563\u001b[0m \u001b[32m━━━━━━━━━━━━━━━━━━━━\u001b[0m\u001b[37m\u001b[0m \u001b[1m32s\u001b[0m 21ms/step - accuracy: 0.5924 - loss: 1.1483 - val_accuracy: 0.6489 - val_loss: 1.0008\n",
      "Epoch 5/10\n",
      "\u001b[1m1563/1563\u001b[0m \u001b[32m━━━━━━━━━━━━━━━━━━━━\u001b[0m\u001b[37m\u001b[0m \u001b[1m31s\u001b[0m 20ms/step - accuracy: 0.6258 - loss: 1.0519 - val_accuracy: 0.6627 - val_loss: 0.9612\n",
      "Epoch 6/10\n",
      "\u001b[1m1563/1563\u001b[0m \u001b[32m━━━━━━━━━━━━━━━━━━━━\u001b[0m\u001b[37m\u001b[0m \u001b[1m32s\u001b[0m 20ms/step - accuracy: 0.6498 - loss: 1.0047 - val_accuracy: 0.6741 - val_loss: 0.9394\n",
      "Epoch 7/10\n",
      "\u001b[1m1563/1563\u001b[0m \u001b[32m━━━━━━━━━━━━━━━━━━━━\u001b[0m\u001b[37m\u001b[0m \u001b[1m46s\u001b[0m 24ms/step - accuracy: 0.6668 - loss: 0.9540 - val_accuracy: 0.6893 - val_loss: 0.8900\n",
      "Epoch 8/10\n",
      "\u001b[1m1563/1563\u001b[0m \u001b[32m━━━━━━━━━━━━━━━━━━━━\u001b[0m\u001b[37m\u001b[0m \u001b[1m37s\u001b[0m 21ms/step - accuracy: 0.6856 - loss: 0.8982 - val_accuracy: 0.6943 - val_loss: 0.8843\n",
      "Epoch 9/10\n",
      "\u001b[1m1563/1563\u001b[0m \u001b[32m━━━━━━━━━━━━━━━━━━━━\u001b[0m\u001b[37m\u001b[0m \u001b[1m32s\u001b[0m 21ms/step - accuracy: 0.6993 - loss: 0.8622 - val_accuracy: 0.7121 - val_loss: 0.8506\n",
      "Epoch 10/10\n",
      "\u001b[1m1563/1563\u001b[0m \u001b[32m━━━━━━━━━━━━━━━━━━━━\u001b[0m\u001b[37m\u001b[0m \u001b[1m40s\u001b[0m 20ms/step - accuracy: 0.7081 - loss: 0.8336 - val_accuracy: 0.6997 - val_loss: 0.8786\n",
      "313/313 - 2s - 6ms/step - accuracy: 0.6997 - loss: 0.8786\n",
      "\n",
      "Test accuracy: 0.6996999979019165\n",
      "\u001b[1m313/313\u001b[0m \u001b[32m━━━━━━━━━━━━━━━━━━━━\u001b[0m\u001b[37m\u001b[0m \u001b[1m2s\u001b[0m 7ms/step\n",
      "The confusion matrix is:\n",
      "[[686  22  83  27  22   6   7   7 108  32]\n",
      " [ 27 846   4  19   3   6   6   3  39  47]\n",
      " [ 55   6 612  79  78 101  42  14   9   4]\n",
      " [ 12   2  57 502  56 283  48  18  17   5]\n",
      " [ 20   2  95  67 667  55  34  48  12   0]\n",
      " [  5   1  59 151  37 693  18  30   5   1]\n",
      " [  3   3  57  84  59  38 743   4   6   3]\n",
      " [ 11   1  26  57 105 133   3 654   5   5]\n",
      " [ 54  18  13  34   5   5   2   4 857   8]\n",
      " [ 18 120  12  34   7  13  11   7  41 737]]\n"
     ]
    },
    {
     "data": {
      "image/png": "[encoded data removed]",
      "text/plain": [
       "<Figure size 640x480 with 1 Axes>"
      ]
     },
     "metadata": {},
     "output_type": "display_data"
    }
   ],
   "source": [
    "# Import necessary libraries\n",
    "import tensorflow as tf\n",
    "from tensorflow.keras import datasets, layers, models\n",
    "from sklearn.metrics import confusion_matrix\n",
    "import matplotlib.pyplot as plt\n",
    "import seaborn as sns\n",
    "\n",
    "# 1. Import the CIFAR-10 dataset and print training data-related information.\n",
    "(train_images, train_labels), (test_images, test_labels) = datasets.cifar10.load_data()\n",
    "\n",
    "# Normalize pixel values to be between 0 and 1\n",
    "train_images, test_images = train_images / 255.0, test_images / 255.0\n",
    "\n",
    "# 2. Import the necessary libraries for building and training the CNN model.\n",
    "# Already imported above\n",
    "\n",
    "# 3. Specify the initial convolutional block of the CNN.\n",
    "model = models.Sequential()\n",
    "model.add(layers.Conv2D(32, (3, 3), activation='relu', input_shape=(32, 32, 3)))\n",
    "model.add(layers.MaxPooling2D((2, 2)))\n",
    "\n",
    "# 5. Add another convolutional block for CNN.\n",
    "model.add(layers.Conv2D(64, (3, 3), activation='relu'))\n",
    "model.add(layers.MaxPooling2D((2, 2)))\n",
    "model.add(layers.Conv2D(64, (3, 3), activation='relu'))\n",
    "\n",
    "# 6. Define dense layers that consume the feature array and produce a classification.\n",
    "model.add(layers.Flatten())\n",
    "model.add(layers.Dense(64, activation='relu'))\n",
    "\n",
    "# 4. Add dropout layer for regularization.\n",
    "model.add(layers.Dropout(0.5))\n",
    "\n",
    "model.add(layers.Dense(10))\n",
    "\n",
    "# 7. Compile and train the CNN model.\n",
    "model.compile(optimizer='adam',\n",
    "              loss=tf.keras.losses.SparseCategoricalCrossentropy(from_logits=True),\n",
    "              metrics=['accuracy'])\n",
    "\n",
    "history = model.fit(train_images, train_labels, epochs=10, \n",
    "                    validation_data=(test_images, test_labels))\n",
    "\n",
    "# 8. Evaluate the performance of the trained model.\n",
    "test_loss, test_acc = model.evaluate(test_images,  test_labels, verbose=2)\n",
    "print('\\nTest accuracy:', test_acc)\n",
    "\n",
    "# 9. Check for overfitting using appropriate visualization.\n",
    "plt.plot(history.history['accuracy'], label='accuracy')\n",
    "plt.plot(history.history['val_accuracy'], label = 'val_accuracy')\n",
    "plt.xlabel('Epoch')\n",
    "plt.ylabel('Accuracy')\n",
    "plt.ylim([0.5, 1])\n",
    "plt.legend(loc='lower right')\n",
    "\n",
    "# 10. Make predictions using the trained model.\n",
    "predictions = model.predict(test_images)\n",
    "\n",
    "# 11. Print the confusion matrix to evaluate the model’s performance.\n",
    "cm = confusion_matrix(test_labels, predictions.argmax(axis=1))\n",
    "print(\"The confusion matrix is:\")\n",
    "print(cm)\n"
   ]
  }
 ],
 "metadata": {
  "kernelspec": {
   "display_name": "Python 3",
   "language": "python",
   "name": "python3"
  },
  "language_info": {
   "codemirror_mode": {
    "name": "ipython",
    "version": 3
   },
   "file_extension": ".py",
   "mimetype": "text/x-python",
   "name": "python",
   "nbconvert_exporter": "python",
   "pygments_lexer": "ipython3",
   "version": "3.12.1"
  }
 },
 "nbformat": 4,
 "nbformat_minor": 2
}

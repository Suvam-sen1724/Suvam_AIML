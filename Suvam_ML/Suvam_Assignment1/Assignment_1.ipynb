{
 "cells": [
  {
   "cell_type": "markdown",
   "metadata": {},
   "source": [
    "# Assignment 1"
   ]
  },
  {
   "cell_type": "markdown",
   "metadata": {},
   "source": [
    "Question 1:\n",
    "Evaluate the following expressions involving arithmetic operators:\n",
    "1. -7*20+8/16*2+54\n",
    "2. 7**2//9%3\n",
    "3. (7-4*2)*10-25*8//5\n",
    "4. 5%10+10-25*8//5a\n",
    "5. ’hello’*2-5"
   ]
  },
  {
   "cell_type": "code",
   "execution_count": 6,
   "metadata": {},
   "outputs": [
    {
     "name": "stdout",
     "output_type": "stream",
     "text": [
      "-85.0\n",
      "2\n",
      "-50\n",
      "-25\n"
     ]
    },
    {
     "ename": "TypeError",
     "evalue": "unsupported operand type(s) for -: 'str' and 'int'",
     "output_type": "error",
     "traceback": [
      "\u001b[1;31m---------------------------------------------------------------------------\u001b[0m",
      "\u001b[1;31mTypeError\u001b[0m                                 Traceback (most recent call last)",
      "Cell \u001b[1;32mIn[6], line 5\u001b[0m\n\u001b[0;32m      3\u001b[0m \u001b[38;5;28mprint\u001b[39m((\u001b[38;5;241m7\u001b[39m\u001b[38;5;241m-\u001b[39m\u001b[38;5;241m4\u001b[39m\u001b[38;5;241m*\u001b[39m\u001b[38;5;241m2\u001b[39m)\u001b[38;5;241m*\u001b[39m\u001b[38;5;241m10\u001b[39m\u001b[38;5;241m-\u001b[39m\u001b[38;5;241m25\u001b[39m\u001b[38;5;241m*\u001b[39m\u001b[38;5;241m8\u001b[39m\u001b[38;5;241m/\u001b[39m\u001b[38;5;241m/\u001b[39m\u001b[38;5;241m5\u001b[39m)\n\u001b[0;32m      4\u001b[0m \u001b[38;5;28mprint\u001b[39m(\u001b[38;5;241m5\u001b[39m\u001b[38;5;241m%\u001b[39m\u001b[38;5;241m10\u001b[39m\u001b[38;5;241m+\u001b[39m\u001b[38;5;241m10\u001b[39m\u001b[38;5;241m-\u001b[39m\u001b[38;5;241m25\u001b[39m\u001b[38;5;241m*\u001b[39m\u001b[38;5;241m8\u001b[39m\u001b[38;5;241m/\u001b[39m\u001b[38;5;241m/\u001b[39m\u001b[38;5;241m5\u001b[39m)\n\u001b[1;32m----> 5\u001b[0m \u001b[38;5;28mprint\u001b[39m(\u001b[38;5;124;43m'\u001b[39;49m\u001b[38;5;124;43mhello\u001b[39;49m\u001b[38;5;124;43m'\u001b[39;49m\u001b[38;5;241;43m*\u001b[39;49m\u001b[38;5;241;43m2\u001b[39;49m\u001b[38;5;241;43m-\u001b[39;49m\u001b[38;5;241;43m5\u001b[39;49m)\n",
      "\u001b[1;31mTypeError\u001b[0m: unsupported operand type(s) for -: 'str' and 'int'"
     ]
    }
   ],
   "source": [
    "print(-7*20+8/16*2+54)\n",
    "print(7**2//9%3)\n",
    "print((7-4*2)*10-25*8//5)\n",
    "print(5%10+10-25*8//5)\n",
    "print('hello'*2-5)"
   ]
  },
  {
   "cell_type": "markdown",
   "metadata": {},
   "source": [
    "Question 2:\n",
    "Evaluate the following expressions involving relational and logical operators:\n",
    "1. ‘hi’ > ‘hello’ and ‘bye’ < ‘Bye’\n",
    "2. ‘hi’ > ‘hello’ or ‘bye’ < ‘Bye’\n",
    "3. 7 > 8 or 5 < 6 and ‘I am fine > ‘I am not fine’\n",
    "4. 10 !=9 and 29 >= 29\n",
    "5. 10 !=9 and 29 >= 29 and ‘hi’ > ‘hello’ or ‘bye’ < ‘Bye’ and 7 <= 2.5\n"
   ]
  },
  {
   "cell_type": "code",
   "execution_count": 7,
   "metadata": {},
   "outputs": [
    {
     "name": "stdout",
     "output_type": "stream",
     "text": [
      "False\n",
      "True\n",
      "False\n",
      "True\n",
      "True\n"
     ]
    }
   ],
   "source": [
    "print('hi' > 'hello' and 'bye' < 'Bye')\n",
    "print('hi' > 'hello' or 'bye' < 'Bye')\n",
    "print(7 > 8 or 5 < 6 and 'I am fine' > 'I am not fine')\n",
    "print(10 !=9 and 29 >= 29)\n",
    "print(10 !=9 and 29 >= 29 and 'hi' > 'hello' or 'bye' < 'Bye' and 7 <= 2.5)"
   ]
  },
  {
   "cell_type": "markdown",
   "metadata": {},
   "source": [
    "Question 3:\n",
    "Write an assignment statement using a single conditional expression for the following if-else code:\n",
    "\n",
    "```\n",
    "if marks >= 70:\n",
    "remarks = ’good’\n",
    "else:\n",
    "remarks = ’average’\n",
    "```\n"
   ]
  },
  {
   "cell_type": "code",
   "execution_count": 8,
   "metadata": {},
   "outputs": [
    {
     "name": "stdout",
     "output_type": "stream",
     "text": [
      "average\n",
      "good\n"
     ]
    }
   ],
   "source": [
    "marks = 50\n",
    "if marks >= 70:\n",
    "    remarks = 'good'\n",
    "else:\n",
    "    remarks = 'average'\n",
    "\n",
    "print(remarks)\n",
    "\n",
    "marks = 90\n",
    "if marks >= 70:\n",
    "    remarks = 'good'\n",
    "else:\n",
    "    remarks = 'average'\n",
    "\n",
    "print(remarks)"
   ]
  },
  {
   "cell_type": "markdown",
   "metadata": {},
   "source": [
    "Question 4:\n",
    "Write a Python program to find the sum of all elements in a list."
   ]
  },
  {
   "cell_type": "code",
   "execution_count": 9,
   "metadata": {},
   "outputs": [
    {
     "name": "stdout",
     "output_type": "stream",
     "text": [
      "55\n"
     ]
    }
   ],
   "source": [
    "l = [1, 2, 3, 4, 5, 6, 7, 8, 9, 10] # list\n",
    "print(sum(l))\n"
   ]
  },
  {
   "cell_type": "markdown",
   "metadata": {},
   "source": [
    "Question 5:\n",
    "Write a Python program that takes two numbers as input parameters and returns their greatest common divisor.\n"
   ]
  },
  {
   "cell_type": "code",
   "execution_count": 10,
   "metadata": {},
   "outputs": [
    {
     "name": "stdout",
     "output_type": "stream",
     "text": [
      "The greatest common divisor of  40  and  60  is:\n",
      "20\n"
     ]
    }
   ],
   "source": [
    "a, b = 40, 60\n",
    "print(f\"The greatest common divisor of \",a,\" and \",b,\" is:\")\n",
    "while a:\n",
    "    a, b = b % a, a\n",
    "\n",
    "print(b)"
   ]
  },
  {
   "cell_type": "markdown",
   "metadata": {},
   "source": [
    "Question 6:\n",
    "Write a Python program to find the maximum of three numbers using a nested function.\n"
   ]
  },
  {
   "cell_type": "code",
   "execution_count": 11,
   "metadata": {},
   "outputs": [
    {
     "name": "stdout",
     "output_type": "stream",
     "text": [
      "5\n"
     ]
    }
   ],
   "source": [
    "a, b, c = 2, 3, 5\n",
    "\n",
    "if a > b:\n",
    "    if a > c:\n",
    "        print(a)\n",
    "elif b > c:\n",
    "    print(b)\n",
    "else:\n",
    "    print(c)\n"
   ]
  },
  {
   "cell_type": "markdown",
   "metadata": {},
   "source": [
    "Question 7:\n",
    "Write a Python program to find the maximum element in a list.\n"
   ]
  },
  {
   "cell_type": "code",
   "execution_count": 12,
   "metadata": {},
   "outputs": [
    {
     "name": "stdout",
     "output_type": "stream",
     "text": [
      "10\n"
     ]
    }
   ],
   "source": [
    "\n",
    "a = [1, 2, 3, 4, 5, 6, 7, 8, 9, 10]\n",
    "print(max(a))\n"
   ]
  },
  {
   "cell_type": "markdown",
   "metadata": {},
   "source": [
    " Question 8:\n",
    "An integer n is divisible by 9 if the sum of its digits is divisible by 9. Use this concept in your program to determine whether or not the number is divisible by 9. Use while loop.\n",
    "```\n",
    "Test it on the following number: \n",
    "n = 154368\n",
    "Hint: Use the % operator to get each digit, then use the / operator to remove the digit. \n",
    "Sample run 1: Enter a number: 154368 The number 154368 is divisible by 9. \n",
    "```"
   ]
  },
  {
   "cell_type": "code",
   "execution_count": 13,
   "metadata": {},
   "outputs": [
    {
     "name": "stdout",
     "output_type": "stream",
     "text": [
      "The number 2 is not divisible by 9.\n"
     ]
    }
   ],
   "source": [
    "n = int(input(\"Enter a number: \"))\n",
    "num = n\n",
    "sum = 0\n",
    "while n > 0:\n",
    "    sum += n%10\n",
    "    n //= 10        # Here we divide n with // for getting integer division\n",
    "\n",
    "if sum % 9 == 0:\n",
    "    print(\"The number\", num, \"is divisible by 9.\")\n",
    "else:\n",
    "    print(\"The number\", num, \"is not divisible by 9.\")"
   ]
  },
  {
   "cell_type": "markdown",
   "metadata": {},
   "source": [
    "Question 9:\n",
    "Write a Python program that reads an integer between 0 and 1000 and adds all the digits in the integer. \n",
    "For example, if an integer is 749, the sum of all its digits is 20. \n",
    "```\n",
    "Hint: Use the % operator to extract digits and the / operator to remove the extracted digit. \n",
    "For instance, 749 % 10 = 9 and 749 / 10 = 74. \n",
    "Here is a sample run: Enter a number between 0 and 1000: 999 The sum of the digits is 27 ```\n",
    "\n"
   ]
  },
  {
   "cell_type": "code",
   "execution_count": 18,
   "metadata": {},
   "outputs": [
    {
     "name": "stdout",
     "output_type": "stream",
     "text": [
      "The sum of the digits is 19\n"
     ]
    }
   ],
   "source": [
    "a = int(input(\"Enter a number: \"))\n",
    "if a>=0 and a<=1000:\n",
    "    sum = 0\n",
    "    while a > 0:\n",
    "        sum += a%10\n",
    "        a //= 10\n",
    "    print(\"The sum of the digits is\", sum)\n",
    "else:\n",
    "    print(\"Enter a number between 0 and 1000\")"
   ]
  },
  {
   "cell_type": "markdown",
   "metadata": {},
   "source": [
    "Question 10:\n",
    "Write a Python program to enter the first number and second number. Display the prime number between the first and second numbers.\n",
    "```\n",
    "Example:\n",
    "Enter the first number: 5\n",
    "Enter the second number: 15\n",
    "Expected output: 5 7 11 13\n",
    "```"
   ]
  },
  {
   "cell_type": "code",
   "execution_count": 17,
   "metadata": {},
   "outputs": [
    {
     "name": "stdout",
     "output_type": "stream",
     "text": [
      "[5, 7, 11, 13, 17, 19]\n"
     ]
    }
   ],
   "source": [
    "\n",
    "int1 = int(input(\"Enter first number: \"))\n",
    "int2 = int(input(\"Enter second number: \"))\n",
    "l1 = []\n",
    "for num in range(int1, int2 + 1):\n",
    "    if num > 1:\n",
    "        for i in range(2, num):\n",
    "            if (num % i) == 0:  \n",
    "                break\n",
    "        else:\n",
    "            l1.append(num)\n",
    "print(l1)\n"
   ]
  }
 ],
 "metadata": {
  "kernelspec": {
   "display_name": "Python 3",
   "language": "python",
   "name": "python3"
  },
  "language_info": {
   "codemirror_mode": {
    "name": "ipython",
    "version": 3
   },
   "file_extension": ".py",
   "mimetype": "text/x-python",
   "name": "python",
   "nbconvert_exporter": "python",
   "pygments_lexer": "ipython3",
   "version": "3.12.1"
  }
 },
 "nbformat": 4,
 "nbformat_minor": 2
}
